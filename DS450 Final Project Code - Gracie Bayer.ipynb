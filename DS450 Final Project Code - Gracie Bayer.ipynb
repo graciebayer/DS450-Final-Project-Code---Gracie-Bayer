{
 "cells": [
  {
   "cell_type": "code",
   "execution_count": null,
   "id": "77f795ef",
   "metadata": {},
   "outputs": [],
   "source": [
    "import os\n",
    "import pandas as pd\n",
    "import numpy as np\n",
    "import matplotlib.pyplot as plt"
   ]
  },
  {
   "cell_type": "code",
   "execution_count": null,
   "id": "774ad5b8",
   "metadata": {},
   "outputs": [],
   "source": [
    "directory = 'Desktop/DALLE.cup'"
   ]
  },
  {
   "cell_type": "code",
   "execution_count": 21,
   "id": "5b243dd9",
   "metadata": {},
   "outputs": [
    {
     "name": "stdout",
     "output_type": "stream",
     "text": [
      "Desktop/DALLE.cup/DALL·E 2023-01-30 14.51.28 - acrylic painting of a cup.png\n",
      "Desktop/DALLE.cup/DALL·E 2023-01-30 14.52.56 - watercolor of a cup.png\n",
      "Desktop/DALLE.cup/DALL·E 2023-01-30 14.51.49 - acrylic painting of a cup.png\n",
      "Desktop/DALLE.cup/DALL·E 2023-01-30 14.51.12 - drawing of a cup.png\n",
      "Desktop/DALLE.cup/DALL·E 2023-01-30 14.39.02 - painting of cup.png\n",
      "Desktop/DALLE.cup/.DS_Store\n",
      "Desktop/DALLE.cup/DALL·E 2023-01-30 14.49.01 - cup sketch.png\n",
      "Desktop/DALLE.cup/DALL·E 2023-01-30 14.49.42 - cup watercolor.png\n",
      "Desktop/DALLE.cup/DALL·E 2023-01-30 14.52.30 - oil pastels painting of a cup.png\n",
      "Desktop/DALLE.cup/DALL·E 2023-01-30 14.52.51 - watercolor of a cup.png\n",
      "Desktop/DALLE.cup/DALL·E 2023-01-30 14.51.53 - acrylic painting of a cup.png\n",
      "Desktop/DALLE.cup/DALL·E 2023-01-30 14.49.47 - cup watercolor.png\n",
      "Desktop/DALLE.cup/DALL·E 2023-01-30 14.52.29 - oil pastels painting of a cup.png\n",
      "Desktop/DALLE.cup/DALL·E 2023-01-30 14.39.10 - painting of cup.png\n",
      "Desktop/DALLE.cup/DALL·E 2023-01-30 14.52.54 - watercolor of a cup.png\n",
      "Desktop/DALLE.cup/DALL·E 2023-01-30 14.40.30 - painting of cup.png\n",
      "Desktop/DALLE.cup/DALL·E 2023-01-30 14.40.26 - painting of cup.png\n",
      "Desktop/DALLE.cup/DALL·E 2023-01-30 14.51.55 - acrylic painting of a cup.png\n",
      "Desktop/DALLE.cup/DALL·E 2023-01-30 14.51.31 - acrylic painting of a cup.png\n",
      "Desktop/DALLE.cup/DALL·E 2023-01-30 14.36.35 - cup drawing.png\n",
      "Desktop/DALLE.cup/DALL·E 2023-01-30 14.54.26 - watercolor of a cup.png\n",
      "Desktop/DALLE.cup/DALL·E 2023-01-30 14.51.10 - drawing of a cup.png\n",
      "Desktop/DALLE.cup/DALL·E 2023-01-30 14.40.24 - painting of cup.png\n",
      "Desktop/DALLE.cup/DALL·E 2023-01-30 14.39.04 - painting of cup.png\n",
      "Desktop/DALLE.cup/DALL·E 2023-01-30 14.49.49 - cup watercolor.png\n",
      "Desktop/DALLE.cup/DALL·E 2023-01-30 14.34.49 - painting of a cup.png\n",
      "Desktop/DALLE.cup/DALL·E 2023-01-30 14.54.12 - colored pencil sketch of a cup.png\n",
      "Desktop/DALLE.cup/DALL·E 2023-01-30 14.54.05 - colored pencil sketch of a cup.png\n",
      "Desktop/DALLE.cup/DALL·E 2023-01-30 14.51.14 - drawing of a cup.png\n",
      "Desktop/DALLE.cup/DALL·E 2023-01-30 14.47.56 - sketch of a cup.png\n",
      "Desktop/DALLE.cup/DALL·E 2023-01-30 14.51.51 - acrylic painting of a cup.png\n",
      "Desktop/DALLE.cup/DALL·E 2023-01-30 14.51.35 - acrylic painting of a cup.png\n",
      "Desktop/DALLE.cup/DALL·E 2023-01-30 14.54.35 - watercolor of a cup.png\n",
      "Desktop/DALLE.cup/DALL·E 2023-01-30 14.37.24 - sketch of a cup.png\n",
      "Desktop/DALLE.cup/DALL·E 2023-01-30 14.52.52 - watercolor of a cup.png\n",
      "Desktop/DALLE.cup/DALL·E 2023-01-30 14.54.10 - colored pencil sketch of a cup.png\n",
      "Desktop/DALLE.cup/DALL·E 2023-01-30 14.48.57 - cup sketch.png\n",
      "Desktop/DALLE.cup/DALL·E 2023-01-30 14.52.32 - oil pastels painting of a cup.png\n",
      "Desktop/DALLE.cup/DALL·E 2023-01-30 14.34.29 - painting of a cup.png\n",
      "Desktop/DALLE.cup/DALL·E 2023-01-30 14.47.54 - sketch of a cup.png\n",
      "Desktop/DALLE.cup/DALL·E 2023-01-30 14.48.53 - cup sketch.png\n",
      "Desktop/DALLE.cup/DALL·E 2023-01-30 14.51.08 - drawing of a cup.png\n",
      "Desktop/DALLE.cup/DALL·E 2023-01-30 14.37.26 - sketch of a cup.png\n",
      "Desktop/DALLE.cup/DALL·E 2023-01-30 14.54.37 - watercolor of a cup.png\n",
      "Desktop/DALLE.cup/DALL·E 2023-01-30 14.49.44 - cup watercolor.png\n",
      "Desktop/DALLE.cup/DALL·E 2023-01-30 14.34.39 - painting of a cup.png\n",
      "Desktop/DALLE.cup/DALL·E 2023-01-30 14.39.07 - painting of cup.png\n",
      "Desktop/DALLE.cup/DALL·E 2023-01-30 14.47.52 - sketch of a cup.png\n",
      "Desktop/DALLE.cup/DALL·E 2023-01-30 14.34.54 - painting of a cup.png\n",
      "Desktop/DALLE.cup/DALL·E 2023-01-30 14.52.34 - oil pastels painting of a cup.png\n",
      "Desktop/DALLE.cup/DALL·E 2023-01-30 14.51.33 - acrylic painting of a cup.png\n",
      "Desktop/DALLE.cup/DALL·E 2023-01-30 14.54.30 - watercolor of a cup.png\n",
      "Desktop/DALLE.cup/DALL·E 2023-01-30 14.37.22 - sketch of a cup.png\n"
     ]
    }
   ],
   "source": [
    "for filename in os.listdir(directory):\n",
    "    f = os.path.join(directory, filename)\n",
    "    if os.path.isfile(f):\n",
    "        print(f)"
   ]
  },
  {
   "cell_type": "code",
   "execution_count": 22,
   "id": "61518afa",
   "metadata": {},
   "outputs": [
    {
     "name": "stdout",
     "output_type": "stream",
     "text": [
      "2037950\n"
     ]
    }
   ],
   "source": [
    "print(os.path.getsize(f))"
   ]
  },
  {
   "cell_type": "code",
   "execution_count": 23,
   "id": "62ebdbe1",
   "metadata": {},
   "outputs": [
    {
     "ename": "NotADirectoryError",
     "evalue": "[Errno 20] Not a directory: 'Desktop/DALLE.cup/DALL·E 2023-01-30 14.37.22 - sketch of a cup.png'",
     "output_type": "error",
     "traceback": [
      "\u001b[0;31m---------------------------------------------------------------------------\u001b[0m",
      "\u001b[0;31mNotADirectoryError\u001b[0m                        Traceback (most recent call last)",
      "\u001b[0;32m<ipython-input-23-f5a1762e70da>\u001b[0m in \u001b[0;36m<module>\u001b[0;34m\u001b[0m\n\u001b[1;32m      5\u001b[0m \u001b[0mheights\u001b[0m \u001b[0;34m=\u001b[0m \u001b[0;34m[\u001b[0m\u001b[0;34m]\u001b[0m\u001b[0;34m\u001b[0m\u001b[0;34m\u001b[0m\u001b[0m\n\u001b[1;32m      6\u001b[0m \u001b[0;34m\u001b[0m\u001b[0m\n\u001b[0;32m----> 7\u001b[0;31m \u001b[0;32mfor\u001b[0m \u001b[0mimg\u001b[0m \u001b[0;32min\u001b[0m \u001b[0mos\u001b[0m\u001b[0;34m.\u001b[0m\u001b[0mlistdir\u001b[0m\u001b[0;34m(\u001b[0m\u001b[0mf\u001b[0m\u001b[0;34m)\u001b[0m\u001b[0;34m:\u001b[0m\u001b[0;34m\u001b[0m\u001b[0;34m\u001b[0m\u001b[0m\n\u001b[0m\u001b[1;32m      8\u001b[0m     \u001b[0mimg_path\u001b[0m \u001b[0;34m=\u001b[0m \u001b[0mos\u001b[0m\u001b[0;34m.\u001b[0m\u001b[0mpath\u001b[0m\u001b[0;34m.\u001b[0m\u001b[0mjoin\u001b[0m\u001b[0;34m(\u001b[0m\u001b[0mf\u001b[0m\u001b[0;34m)\u001b[0m \u001b[0;31m# Making image file path\u001b[0m\u001b[0;34m\u001b[0m\u001b[0;34m\u001b[0m\u001b[0m\n\u001b[1;32m      9\u001b[0m     \u001b[0mim\u001b[0m \u001b[0;34m=\u001b[0m \u001b[0mImage\u001b[0m\u001b[0;34m.\u001b[0m\u001b[0mopen\u001b[0m\u001b[0;34m(\u001b[0m\u001b[0mimg_path\u001b[0m\u001b[0;34m)\u001b[0m\u001b[0;34m\u001b[0m\u001b[0;34m\u001b[0m\u001b[0m\n",
      "\u001b[0;31mNotADirectoryError\u001b[0m: [Errno 20] Not a directory: 'Desktop/DALLE.cup/DALL·E 2023-01-30 14.37.22 - sketch of a cup.png'"
     ]
    }
   ],
   "source": [
    "import PIL\n",
    "from PIL import Image\n",
    "\n",
    "widths = []\n",
    "heights = []\n",
    "\n",
    "for img in os.listdir(f):\n",
    "    img_path = os.path.join(f) # Making image file path\n",
    "    im = Image.open(img_path)\n",
    "    widths.append(im.size[0])\n",
    "    heights.append(im.size[1])\n",
    "\n",
    "AVG_HEIGHT = round(sum(heights)/len(heights))\n",
    "AVG_WIDTH = round(sum(widths)/len(widths))\n"
   ]
  },
  {
   "cell_type": "code",
   "execution_count": 25,
   "id": "085de431",
   "metadata": {},
   "outputs": [
    {
     "ename": "TypeError",
     "evalue": "cannot perform reduce with flexible type",
     "output_type": "error",
     "traceback": [
      "\u001b[0;31m---------------------------------------------------------------------------\u001b[0m",
      "\u001b[0;31mTypeError\u001b[0m                                 Traceback (most recent call last)",
      "\u001b[0;32m<ipython-input-25-3c6295d8de71>\u001b[0m in \u001b[0;36m<module>\u001b[0;34m\u001b[0m\n\u001b[0;32m----> 1\u001b[0;31m \u001b[0mnp\u001b[0m\u001b[0;34m.\u001b[0m\u001b[0mmean\u001b[0m\u001b[0;34m(\u001b[0m\u001b[0mf\u001b[0m\u001b[0;34m)\u001b[0m\u001b[0;34m\u001b[0m\u001b[0;34m\u001b[0m\u001b[0m\n\u001b[0m",
      "\u001b[0;32m<__array_function__ internals>\u001b[0m in \u001b[0;36mmean\u001b[0;34m(*args, **kwargs)\u001b[0m\n",
      "\u001b[0;32m/opt/anaconda3/lib/python3.8/site-packages/numpy/core/fromnumeric.py\u001b[0m in \u001b[0;36mmean\u001b[0;34m(a, axis, dtype, out, keepdims, where)\u001b[0m\n\u001b[1;32m   3417\u001b[0m             \u001b[0;32mreturn\u001b[0m \u001b[0mmean\u001b[0m\u001b[0;34m(\u001b[0m\u001b[0maxis\u001b[0m\u001b[0;34m=\u001b[0m\u001b[0maxis\u001b[0m\u001b[0;34m,\u001b[0m \u001b[0mdtype\u001b[0m\u001b[0;34m=\u001b[0m\u001b[0mdtype\u001b[0m\u001b[0;34m,\u001b[0m \u001b[0mout\u001b[0m\u001b[0;34m=\u001b[0m\u001b[0mout\u001b[0m\u001b[0;34m,\u001b[0m \u001b[0;34m**\u001b[0m\u001b[0mkwargs\u001b[0m\u001b[0;34m)\u001b[0m\u001b[0;34m\u001b[0m\u001b[0;34m\u001b[0m\u001b[0m\n\u001b[1;32m   3418\u001b[0m \u001b[0;34m\u001b[0m\u001b[0m\n\u001b[0;32m-> 3419\u001b[0;31m     return _methods._mean(a, axis=axis, dtype=dtype,\n\u001b[0m\u001b[1;32m   3420\u001b[0m                           out=out, **kwargs)\n\u001b[1;32m   3421\u001b[0m \u001b[0;34m\u001b[0m\u001b[0m\n",
      "\u001b[0;32m/opt/anaconda3/lib/python3.8/site-packages/numpy/core/_methods.py\u001b[0m in \u001b[0;36m_mean\u001b[0;34m(a, axis, dtype, out, keepdims, where)\u001b[0m\n\u001b[1;32m    176\u001b[0m             \u001b[0mis_float16_result\u001b[0m \u001b[0;34m=\u001b[0m \u001b[0;32mTrue\u001b[0m\u001b[0;34m\u001b[0m\u001b[0;34m\u001b[0m\u001b[0m\n\u001b[1;32m    177\u001b[0m \u001b[0;34m\u001b[0m\u001b[0m\n\u001b[0;32m--> 178\u001b[0;31m     \u001b[0mret\u001b[0m \u001b[0;34m=\u001b[0m \u001b[0mumr_sum\u001b[0m\u001b[0;34m(\u001b[0m\u001b[0marr\u001b[0m\u001b[0;34m,\u001b[0m \u001b[0maxis\u001b[0m\u001b[0;34m,\u001b[0m \u001b[0mdtype\u001b[0m\u001b[0;34m,\u001b[0m \u001b[0mout\u001b[0m\u001b[0;34m,\u001b[0m \u001b[0mkeepdims\u001b[0m\u001b[0;34m,\u001b[0m \u001b[0mwhere\u001b[0m\u001b[0;34m=\u001b[0m\u001b[0mwhere\u001b[0m\u001b[0;34m)\u001b[0m\u001b[0;34m\u001b[0m\u001b[0;34m\u001b[0m\u001b[0m\n\u001b[0m\u001b[1;32m    179\u001b[0m     \u001b[0;32mif\u001b[0m \u001b[0misinstance\u001b[0m\u001b[0;34m(\u001b[0m\u001b[0mret\u001b[0m\u001b[0;34m,\u001b[0m \u001b[0mmu\u001b[0m\u001b[0;34m.\u001b[0m\u001b[0mndarray\u001b[0m\u001b[0;34m)\u001b[0m\u001b[0;34m:\u001b[0m\u001b[0;34m\u001b[0m\u001b[0;34m\u001b[0m\u001b[0m\n\u001b[1;32m    180\u001b[0m         ret = um.true_divide(\n",
      "\u001b[0;31mTypeError\u001b[0m: cannot perform reduce with flexible type"
     ]
    }
   ],
   "source": [
    "np.mean(f)"
   ]
  },
  {
   "cell_type": "code",
   "execution_count": null,
   "id": "b5cff003",
   "metadata": {},
   "outputs": [],
   "source": [
    "directory = 'Real_Artists.cup'"
   ]
  },
  {
   "cell_type": "code",
   "execution_count": null,
   "id": "e6544f39",
   "metadata": {},
   "outputs": [],
   "source": [
    "for filename in os.listdir(directory):\n",
    "    f = os.path.join(directory, filename)\n",
    "    if os.path.isfile(f):\n",
    "        print(f)"
   ]
  },
  {
   "cell_type": "code",
   "execution_count": null,
   "id": "5529b146",
   "metadata": {},
   "outputs": [],
   "source": [
    "print(os.path.getsize(f))"
   ]
  },
  {
   "cell_type": "code",
   "execution_count": null,
   "id": "d0b17541",
   "metadata": {},
   "outputs": [],
   "source": []
  },
  {
   "cell_type": "code",
   "execution_count": null,
   "id": "e20e89bb",
   "metadata": {},
   "outputs": [],
   "source": []
  },
  {
   "cell_type": "code",
   "execution_count": null,
   "id": "fe673fd5",
   "metadata": {},
   "outputs": [],
   "source": [
    "directory = 'DALLE.dog'"
   ]
  },
  {
   "cell_type": "code",
   "execution_count": null,
   "id": "5984e80b",
   "metadata": {},
   "outputs": [],
   "source": [
    "for filename in os.listdir(directory):\n",
    "    f = os.path.join(directory, filename)\n",
    "    if os.path.isfile(f):\n",
    "        print(f)"
   ]
  },
  {
   "cell_type": "code",
   "execution_count": null,
   "id": "3cd5cd2f",
   "metadata": {},
   "outputs": [],
   "source": [
    "print(os.path.getsize(f))"
   ]
  },
  {
   "cell_type": "code",
   "execution_count": null,
   "id": "40503f81",
   "metadata": {},
   "outputs": [],
   "source": []
  },
  {
   "cell_type": "code",
   "execution_count": null,
   "id": "5ef48bb2",
   "metadata": {},
   "outputs": [],
   "source": []
  },
  {
   "cell_type": "code",
   "execution_count": null,
   "id": "51412e52",
   "metadata": {},
   "outputs": [],
   "source": [
    "directory = 'Real_Artists.dog'"
   ]
  },
  {
   "cell_type": "code",
   "execution_count": null,
   "id": "063ba302",
   "metadata": {},
   "outputs": [],
   "source": [
    "for filename in os.listdir(directory):\n",
    "    f = os.path.join(directory, filename)\n",
    "    if os.path.isfile(f):\n",
    "        print(f)"
   ]
  },
  {
   "cell_type": "code",
   "execution_count": null,
   "id": "cb5b9e84",
   "metadata": {},
   "outputs": [],
   "source": [
    "print(os.path.getsize(f))"
   ]
  },
  {
   "cell_type": "code",
   "execution_count": null,
   "id": "fe92e5fa",
   "metadata": {},
   "outputs": [],
   "source": []
  },
  {
   "cell_type": "code",
   "execution_count": null,
   "id": "f3e5a5ff",
   "metadata": {},
   "outputs": [],
   "source": []
  },
  {
   "cell_type": "code",
   "execution_count": null,
   "id": "f2d0f527",
   "metadata": {},
   "outputs": [],
   "source": [
    "directory = 'DALLE.fruits'"
   ]
  },
  {
   "cell_type": "code",
   "execution_count": null,
   "id": "a04eaf78",
   "metadata": {},
   "outputs": [],
   "source": [
    "for filename in os.listdir(directory):\n",
    "    f = os.path.join(directory, filename)\n",
    "    if os.path.isfile(f):\n",
    "        print(f)"
   ]
  },
  {
   "cell_type": "code",
   "execution_count": null,
   "id": "d5f38058",
   "metadata": {},
   "outputs": [],
   "source": [
    "print(os.path.getsize(f))"
   ]
  },
  {
   "cell_type": "code",
   "execution_count": null,
   "id": "9fdfd857",
   "metadata": {},
   "outputs": [],
   "source": []
  },
  {
   "cell_type": "code",
   "execution_count": null,
   "id": "086e158f",
   "metadata": {},
   "outputs": [],
   "source": []
  },
  {
   "cell_type": "code",
   "execution_count": null,
   "id": "17178b2a",
   "metadata": {},
   "outputs": [],
   "source": [
    "directory = 'Real_Artists.fruits'"
   ]
  },
  {
   "cell_type": "code",
   "execution_count": null,
   "id": "37b104e8",
   "metadata": {},
   "outputs": [],
   "source": [
    "for filename in os.listdir(directory):\n",
    "    f = os.path.join(directory, filename)\n",
    "    if os.path.isfile(f):\n",
    "        print(f)"
   ]
  },
  {
   "cell_type": "code",
   "execution_count": null,
   "id": "83acf294",
   "metadata": {},
   "outputs": [],
   "source": [
    "print(os.path.getsize(f))"
   ]
  },
  {
   "cell_type": "code",
   "execution_count": null,
   "id": "966ebde5",
   "metadata": {},
   "outputs": [],
   "source": []
  },
  {
   "cell_type": "code",
   "execution_count": null,
   "id": "c84ade6f",
   "metadata": {},
   "outputs": [],
   "source": []
  },
  {
   "cell_type": "code",
   "execution_count": null,
   "id": "2e3f0469",
   "metadata": {},
   "outputs": [],
   "source": [
    "directory = 'DALLE.house'"
   ]
  },
  {
   "cell_type": "code",
   "execution_count": null,
   "id": "fab6351c",
   "metadata": {},
   "outputs": [],
   "source": [
    "for filename in os.listdir(directory):\n",
    "    f = os.path.join(directory, filename)\n",
    "    if os.path.isfile(f):\n",
    "        print(f)"
   ]
  },
  {
   "cell_type": "code",
   "execution_count": null,
   "id": "ae1589aa",
   "metadata": {},
   "outputs": [],
   "source": [
    "print(os.path.getsize(f))"
   ]
  },
  {
   "cell_type": "code",
   "execution_count": null,
   "id": "7c09b04f",
   "metadata": {},
   "outputs": [],
   "source": []
  },
  {
   "cell_type": "code",
   "execution_count": null,
   "id": "1d236eab",
   "metadata": {},
   "outputs": [],
   "source": []
  },
  {
   "cell_type": "code",
   "execution_count": null,
   "id": "37afb7d6",
   "metadata": {},
   "outputs": [],
   "source": [
    "directory = 'Real_Artists.house'"
   ]
  },
  {
   "cell_type": "code",
   "execution_count": null,
   "id": "b1ca7fc2",
   "metadata": {},
   "outputs": [],
   "source": [
    "for filename in os.listdir(directory):\n",
    "    f = os.path.join(directory, filename)\n",
    "    if os.path.isfile(f):\n",
    "        print(f)"
   ]
  },
  {
   "cell_type": "code",
   "execution_count": null,
   "id": "303ce8e0",
   "metadata": {},
   "outputs": [],
   "source": [
    "print(os.path.getsize(f))"
   ]
  },
  {
   "cell_type": "code",
   "execution_count": null,
   "id": "7faf96d7",
   "metadata": {},
   "outputs": [],
   "source": []
  },
  {
   "cell_type": "code",
   "execution_count": null,
   "id": "50592a72",
   "metadata": {},
   "outputs": [],
   "source": []
  },
  {
   "cell_type": "code",
   "execution_count": null,
   "id": "24350f0b",
   "metadata": {},
   "outputs": [],
   "source": [
    "df = pd.DataFrame()"
   ]
  },
  {
   "cell_type": "code",
   "execution_count": null,
   "id": "b460b470",
   "metadata": {},
   "outputs": [],
   "source": [
    "df2 = df.groupby(['', '']).agg(['mean'])"
   ]
  },
  {
   "cell_type": "code",
   "execution_count": null,
   "id": "f6540d27",
   "metadata": {},
   "outputs": [],
   "source": [
    "np.min(f)"
   ]
  },
  {
   "cell_type": "code",
   "execution_count": null,
   "id": "66841f7d",
   "metadata": {},
   "outputs": [],
   "source": [
    "np.mean(f)"
   ]
  },
  {
   "cell_type": "code",
   "execution_count": null,
   "id": "c3de561c",
   "metadata": {},
   "outputs": [],
   "source": [
    "np.max(f)"
   ]
  },
  {
   "cell_type": "code",
   "execution_count": null,
   "id": "e092b867",
   "metadata": {},
   "outputs": [],
   "source": [
    "#include artist and ai images in poster, a pic of neural network(?) and GRAPHS"
   ]
  },
  {
   "cell_type": "code",
   "execution_count": null,
   "id": "e8ffc840",
   "metadata": {},
   "outputs": [],
   "source": []
  },
  {
   "cell_type": "code",
   "execution_count": null,
   "id": "99cbc6b4",
   "metadata": {},
   "outputs": [],
   "source": [
    "import io\n",
    "import struct\n",
    "\n",
    "def getImageInfo(data):\n",
    "    data = str(data)\n",
    "    size = len(data)\n",
    "    height = -1\n",
    "    width = -1\n",
    "    content_type = ''"
   ]
  },
  {
   "cell_type": "code",
   "execution_count": null,
   "id": "294e63cd",
   "metadata": {},
   "outputs": [],
   "source": [
    "from os import listdir\n",
    "from os.path import isfile, join\n",
    "\n",
    "from PIL import Image\n",
    "\n",
    "\n",
    "def print_data(data):\n",
    "    \"\"\"\n",
    "    Parameters\n",
    "    ----------\n",
    "    data : dict\n",
    "    \"\"\"\n",
    "    for k, v in data.items():\n",
    "        print(\"%s:\\t%s\" % (k, v))\n",
    "    print(\"Min width: %i\" % data[\"min_width\"])\n",
    "    print(\"Max width: %i\" % data[\"max_width\"])\n",
    "    print(\"Min height: %i\" % data[\"min_height\"])\n",
    "    print(\"Max height: %i\" % data[\"max_height\"])\n",
    "\n",
    "\n",
    "def main(path):\n",
    "    \"\"\"\n",
    "    Parameters\n",
    "    ----------\n",
    "    path : str\n",
    "        Path where to look for image files.\n",
    "    \"\"\"\n",
    "    onlyfiles = [f for f in listdir(path) if isfile(join(path, f))]\n",
    "\n",
    "    data = {}\n",
    "    data[\"images_count\"] = len(onlyfiles)\n",
    "    data[\"min_width\"] = 10 ** 100  # No image will be bigger than that\n",
    "    data[\"max_width\"] = 0\n",
    "    data[\"min_height\"] = 10 ** 100  # No image will be bigger than that\n",
    "    data[\"max_height\"] = 0\n",
    "\n",
    "    for filename in onlyfiles:\n",
    "        im = Image.open(filename)\n",
    "        width, height = im.size\n",
    "        data[\"min_width\"] = min(width, data[\"min_width\"])\n",
    "        data[\"max_width\"] = max(width, data[\"max_width\"])\n",
    "        data[\"min_height\"] = min(height, data[\"min_height\"])\n",
    "        data[\"max_height\"] = max(height, data[\"max_height\"])\n",
    "\n",
    "    print_data(data)\n",
    "\n",
    "\n",
    "if __name__ == \"__main__\":\n",
    "    main(path=\".\")\n"
   ]
  },
  {
   "cell_type": "code",
   "execution_count": null,
   "id": "b95bfae9",
   "metadata": {},
   "outputs": [],
   "source": [
    "import os\n",
    "from PIL import Image \n",
    "\n",
    "folder_images = \"Desktop/Classes/DS-450/DALLE - cup\"\n",
    "size_images = dict()\n",
    "\n",
    "for dirpath, _, filenames in os.walk(folder_images):\n",
    "    for path_image in filenames:\n",
    "        image = os.path.abspath(os.path.join(dirpath, path_image))\n",
    "        with Image.open(image) as img:\n",
    "            width, heigth = img.size\n",
    "            size_images[path_image] = {'width': width, 'heigth': heigth}\n",
    "print(size_images)\n"
   ]
  },
  {
   "cell_type": "code",
   "execution_count": null,
   "id": "a4f7464e",
   "metadata": {},
   "outputs": [],
   "source": []
  }
 ],
 "metadata": {
  "kernelspec": {
   "display_name": "Python 3",
   "language": "python",
   "name": "python3"
  },
  "language_info": {
   "codemirror_mode": {
    "name": "ipython",
    "version": 3
   },
   "file_extension": ".py",
   "mimetype": "text/x-python",
   "name": "python",
   "nbconvert_exporter": "python",
   "pygments_lexer": "ipython3",
   "version": "3.8.8"
  }
 },
 "nbformat": 4,
 "nbformat_minor": 5
}
